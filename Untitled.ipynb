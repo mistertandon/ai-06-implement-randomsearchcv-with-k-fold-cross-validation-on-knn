{
 "cells": [
  {
   "cell_type": "markdown",
   "metadata": {},
   "source": [
    "<pre>\n",
    "def RandomSearchCV(x_train,y_train,classifier, param_range, folds):\n",
    "    # x_train: its numpy array of shape, (n,d)\n",
    "    # y_train: its numpy array of shape, (n,) or (n,1)\n",
    "    # classifier: its typically KNeighborsClassifier()\n",
    "    # param_range: its a tuple like (a,b) a < b\n",
    "    # folds: an integer, represents number of folds we need to devide the data and test our model\n",
    "    \n",
    "    \n",
    "    #1.generate 10 unique values(uniform random distribution) in the given range \"param_range\" and store them as \"params\" \n",
    "    # ex: if param_range = (1, 50), we need to generate 10 random numbers in range 1 to 50\n",
    "    #2.devide numbers ranging from  0 to len(X_train) into groups= folds\n",
    "    # ex: folds=3, and len(x_train)=100, we can devide numbers from 0 to 100 into 3 groups \n",
    "      group 1: 0-33, group 2:34-66, group 3: 67-100\n",
    "    #3.for each hyperparameter that we generated in step 1:\n",
    "        # and using the above groups we have created in step 2 you will do cross-validation as follows\n",
    "        \n",
    "        # first we will keep group 1+group 2 i.e. 0-66 as train data and group 3: 67-100 as test data, and find train and\n",
    "          test accuracies\n",
    "          \n",
    "        # second we will keep group 1+group 3 i.e. 0-33, 67-100 as train data and group 2: 34-66 as test data, and find\n",
    "          train and test accuracies\n",
    "          \n",
    "        # third we will keep group 2+group 3 i.e. 34-100 as train data and group 1: 0-33 as test data, and find train and\n",
    "          test accuracies\n",
    "        # based on the 'folds' value we will do the same procedure\n",
    "        \n",
    "        # find the mean of train accuracies of above 3 steps and store in a list \"train_scores\"\n",
    "        # find the mean of test accuracies of above 3 steps and store in a list \"test_scores\"\n",
    "    #4. return both \"train_scores\" and \"test_scores\"\n",
    "\n",
    "#5. call function RandomSearchCV(x_train,y_train,classifier, param_range, folds) and store the returned values into \"train_score\", and \"cv_scores\"\n",
    "#6. plot hyper-parameter vs accuracy plot as shown in reference notebook and choose the best hyperparameter\n",
    "#7. plot the decision boundaries for the model initialized with the best hyperparameter, as shown in the last cell of reference notebook\n",
    "\n",
    "</pre>\n"
   ]
  }
 ],
 "metadata": {
  "kernelspec": {
   "display_name": "Python 3",
   "language": "python",
   "name": "python3"
  },
  "language_info": {
   "codemirror_mode": {
    "name": "ipython",
    "version": 3
   },
   "file_extension": ".py",
   "mimetype": "text/x-python",
   "name": "python",
   "nbconvert_exporter": "python",
   "pygments_lexer": "ipython3",
   "version": "3.7.0"
  }
 },
 "nbformat": 4,
 "nbformat_minor": 2
}
